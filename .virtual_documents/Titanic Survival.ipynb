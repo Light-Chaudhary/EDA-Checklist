# Titanic Survival Prediction 
# Setup
# Import essential libraries: Pandas, NumPy, Matplotlib, Seaborn
# Load the Titanic dataset

import numpy as np
import pandas as pd
import matplotlib.pyplot as plt
import seaborn as sns

titanic = sns.load_dataset("titanic")


# Initial Inspection

# View first 5 rows

# Get dataset shape

# Check column data types and non-null counts

# Count missing values per column

print(titanic.head())
print("\n")
print(titanic.shape)
print("\n")
print(titanic.columns)
print("\n")
print(titanic.info())
print("\n")
print(titanic.isnull().sum())
print("\n")
print(titanic.shape)


# Data Cleaning

# Drop irrelevant or high-missing-value columns (e.g., deck, embark_town, alive)

# Fill missing values:

# Age → median

# Embarked → mode

# Recheck for any missing data

titanic.drop(columns = ["deck", "alive"], inplace = True)

titanic["age"] = titanic["age"].fillna(titanic["age"].mean())
titanic["embarked"] = titanic["embarked"].fillna(titanic["embarked"].mode()[0])

titanic = titanic.dropna()

print("\nAfter Cleaning - Missing Values:\n", titanic.isnull().sum())


# Univariate Analysis

# Plot count of:

# Gender

# Survival

# Passenger class

# Plot:

# Age distribution (histogram + KDE)

# Fare distribution

# Boxplot of age by passenger class

sns.countplot(x='sex', data=titanic)
plt.title('Gender Distribution')
plt.ylabel("Sex Count")
plt.xlabel("Sex")
plt.show()

sns.countplot(x='survived', data=titanic)
plt.title('Survival Count (0=No, 1=Yes)')
plt.ylabel("Survival Count")
plt.xlabel("Survival")
plt.show()

sns.histplot(titanic['age'], kde=True, bins=30)
plt.title('Age Distribution')
plt.grid(True)
plt.xlabel("Age")
plt.ylabel("Age Count")
plt.show()

sns.histplot(titanic["fare"], kde = True, bins = 30)
plt.title("Fare Distribution")
plt.xlabel("Fare")
plt.ylabel("Fare Count")
plt.grid(True)
plt.show()

sns.boxplot(x='pclass', y='age', data=titanic)
plt.title('Age by Class')
plt.xlabel("Passenger Class")
plt.ylabel("Age")
plt.show()


# Bivariate Analysis

# Survival by:

# Gender (countplot)

# Passenger class

# Embarked port

# Age vs. Survival (violin or boxplot)

# Fare vs. Survival

sns.countplot(x='sex', hue='survived', data=titanic)
plt.title('Survival by Gender')
plt.ylabel("Survival Count")
plt.xlabel("Sex")
plt.show()

sns.countplot(x="pclass", hue = "survived", data = titanic)
plt.title("Survival by Passenger Class")
plt.ylabel("Survival Count")
plt.xlabel("Passenger Class")
plt.show()

sns.countplot(x="embark_town", hue = "survived", data = titanic)
plt.title("Survival by Embark Port")
plt.ylabel("Survival Count")
plt.savefig("Survival_By_Embark_Port.png", dpi = 300, bbox_inches= "tight")
plt.show()

sns.boxplot(x='sex', y='age', hue='survived', data=titanic)
plt.title('Age Distribution by Gender and Survival')
plt.xlabel("Sex")
plt.ylabel("Age")
plt.show()

sns.violinplot(x= "sex", y = "fare", hue = "survived", data = titanic, cut = 0, inner = None)
plt.title("Fare Distribution")
plt.xlabel("Sex")
plt.ylabel("Fare")
plt.show()


# Correlation Analysis

# Compute correlation matrix (numeric only)

# Plot heatmap

corr = titanic.corr(numeric_only = True)
sns.heatmap(corr, annot = True, cmap = "coolwarm")
plt.title("Correlation Matrix")
plt.show()


# Feature Engineering
# Create new features:

# Is child (age < 12)

# Family size (sibsp + parch)

# Analyze their impact on survival

titanic['is_child'] = titanic['age'] < 12

sns.countplot(x = "is_child", hue = "survived", data = titanic)
plt.title("Survival by Child Status")
plt.xlabel("Child")
plt.ylabel("Survival")
plt.grid(True)
plt.show()

titanic['family_size'] = titanic["sibsp"] + titanic["parch"]

sns.countplot (x = "family_size" , hue = "survived", data = titanic)
plt.title("Survival rate by Family Size")
plt.xlabel("Family Size")
plt.ylabel("Survived")
plt.show()

titanic.groupby("family_size")["survived"].mean()


titanic.to_csv("Update_Titanic.csv")
