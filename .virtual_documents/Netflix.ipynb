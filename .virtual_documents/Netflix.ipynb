import numpy as np 
import pandas as pd
import matplotlib.pyplot as plt
import seaborn as sns


df = pd.read_csv("netflix_titles.csv")


df.head()


df.columns


df.shape


df = df.dropna()


df.head()


movies_type = df[df["type"] == "Movie"]
sns.countplot(x= "type" , hue = 'rating',  data = movies_type)
plt.title("Count of movie type")
plt.grid(True)
plt.show



tv_shows_type = df[df['type'] == "TV Show"]
sns.countplot(x = "type", hue = "rating", data = tv_shows_type)
plt.title("Count of tv show type")
plt.grid(True)
plt.show


df['country'] = df['country'].str.split (', ')
df = df.explode('country')

top_countries = df['country'].value_counts().head(10)
print(top_countries)


plt.figure(figsize=(10, 6))
sns.barplot(x=top_countries.values, y=top_countries.index)
plt.xlabel("Number of Titles")
plt.title("Top 10 Countries Producing Most Netflix Content")
plt.show()



