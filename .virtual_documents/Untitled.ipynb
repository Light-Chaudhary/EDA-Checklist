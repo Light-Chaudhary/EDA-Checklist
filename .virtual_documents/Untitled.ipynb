# Titanic Survival Prediction 
# Setup
# Import essential libraries: Pandas, NumPy, Matplotlib, Seaborn
# Load the Titanic dataset

import numpy as np
import pandas as pd
import matplotlib.pyplot as plt
import seaborn as sns

titanic = sns.load_dataset("titanic")


# Initial Inspection

# View first 5 rows

# Get dataset shape

# Check column data types and non-null counts

# Count missing values per column

print(titanic.head())
print("\n")
print(titanic.shape)
print("\n")
print(titanic.columns)
print("\n")
print(titanic.info())
print("\n")
print(titanic.isnull().sum())
print("\n")
print(titanic.shape)


# Data Cleaning

# Drop irrelevant or high-missing-value columns (e.g., deck, embark_town, alive)

# Fill missing values:

# Age → median

# Embarked → mode

# Recheck for any missing data

titanic.columns

titanic["deck"] = titanic["deck"].dropna()
titanic["embark_town"] = titanic["embark_town"].dropna()
titanic["alive"] = titanic["alive"].dropna()

titanic["age"] = titanic["age"].fillna(titanic["age"].mean())
titanic["embarked"] = titanic["embarked"].fillna(titanic["embarked"].mode)

titanic = titanic.dropna()
titanic



